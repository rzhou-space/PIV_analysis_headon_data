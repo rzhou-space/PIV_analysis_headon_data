{
 "cells": [
  {
   "cell_type": "code",
   "execution_count": 2,
   "id": "6b86db00-6e38-44a3-a96e-c046f0b93d87",
   "metadata": {},
   "outputs": [],
   "source": [
    "import h5py\n",
    "import matplotlib.pyplot as plt\n",
    "import numpy as np\n",
    "from matplotlib.colors import LinearSegmentedColormap"
   ]
  },
  {
   "cell_type": "markdown",
   "id": "0df33c4b-7481-48df-97f1-b539baa96483",
   "metadata": {},
   "source": [
    "# Tracking Code for once multiple tracks in the same time interval"
   ]
  },
  {
   "cell_type": "code",
   "execution_count": 2,
   "id": "6a00bd37-663a-47ad-bf65-637edd872c66",
   "metadata": {},
   "outputs": [],
   "source": [
    "with h5py.File(\"track\", \"r\") as file:\n",
    "    x_track = file[\"x_track\"][:]\n",
    "    y_track = file[\"y_track\"][:]\n",
    "    t_track = file[\"t_track\"][:]"
   ]
  },
  {
   "cell_type": "code",
   "execution_count": 3,
   "id": "a88e4429-0121-48c2-b234-2b72137ba8cd",
   "metadata": {},
   "outputs": [],
   "source": [
    "# Converting the vector field matrix coordinates into figure coordinates.\n",
    "x_track_img = (x_track + 1)*16\n",
    "y_track_img = (y_track + 1)*16"
   ]
  },
  {
   "cell_type": "code",
   "execution_count": 5,
   "id": "e950b010-a631-438e-bbff-92620561be9f",
   "metadata": {},
   "outputs": [],
   "source": [
    "def def_cmap(color):\n",
    "    colors = [\"white\", color]\n",
    "    n_bins = 100\n",
    "    cmap_name = \"cmap\"\n",
    "    self_cmap = LinearSegmentedColormap.from_list(cmap_name, colors, N=n_bins)\n",
    "    return self_cmap"
   ]
  },
  {
   "cell_type": "code",
   "execution_count": 6,
   "id": "6dfe5265-5381-46f2-8b7c-2bf873d3e640",
   "metadata": {},
   "outputs": [
    {
     "data": {
      "image/png": "[encoded data removed]",
      "text/plain": [
       "<Figure size 1000x1000 with 1 Axes>"
      ]
     },
     "metadata": {},
     "output_type": "display_data"
    }
   ],
   "source": [
    "colors = [\"gray\", \"mediumpurple\", \"deepskyblue\", \"orange\", \"red\", \"darkseagreen\", \"hotpink\", \"peru\", \"olivedrab\", \"turquoise\"]\n",
    "\n",
    "plt.style.use('dark_background')\n",
    "\n",
    "fig1 = plt.figure(figsize=(10, 10))\n",
    "for i in range(np.shape(x_track)[0]):\n",
    "    plt.plot(x_track_img[i], y_track_img[i], color=colors[i], zorder=1)\n",
    "    cmap = def_cmap(colors[i])\n",
    "    plt.scatter(x_track_img[i], y_track_img[i], c=t_track[:-1], zorder=2, cmap=cmap)\n",
    "#plt.colorbar(label = \"time\")\n",
    "plt.xlim(0, 768)\n",
    "plt.ylim(0, 768)\n",
    "plt.gca().invert_yaxis()\n",
    "plt.show()"
   ]
  },
  {
   "cell_type": "markdown",
   "id": "2cdb7c18-56db-46ae-9955-c931e73e84ab",
   "metadata": {},
   "source": [
    "# Tracking Code for separate tracking in different time interval"
   ]
  },
  {
   "cell_type": "code",
   "execution_count": 7,
   "id": "f38c955c-1eb4-4cbf-ab6d-3ded8daaad09",
   "metadata": {},
   "outputs": [
    {
     "ename": "ValueError",
     "evalue": "Invalid location identifier (invalid location identifier)",
     "output_type": "error",
     "traceback": [
      "\u001b[1;31m---------------------------------------------------------------------------\u001b[0m",
      "\u001b[1;31mValueError\u001b[0m                                Traceback (most recent call last)",
      "Cell \u001b[1;32mIn[7], line 9\u001b[0m\n\u001b[0;32m      6\u001b[0m     track_id \u001b[38;5;241m=\u001b[39m file[\u001b[38;5;124m\"\u001b[39m\u001b[38;5;124mtrack_id\u001b[39m\u001b[38;5;124m\"\u001b[39m][:]\n\u001b[0;32m      8\u001b[0m \u001b[38;5;28;01mfor\u001b[39;00m i \u001b[38;5;129;01min\u001b[39;00m track_id:\n\u001b[1;32m----> 9\u001b[0m     x_track\u001b[38;5;241m.\u001b[39mappend(\u001b[43mfile\u001b[49m\u001b[43m[\u001b[49m\u001b[38;5;124;43m\"\u001b[39;49m\u001b[38;5;124;43mx_track_\u001b[39;49m\u001b[38;5;124;43m\"\u001b[39;49m\u001b[38;5;241;43m+\u001b[39;49m\u001b[38;5;28;43mstr\u001b[39;49m\u001b[43m(\u001b[49m\u001b[43mi\u001b[49m\u001b[43m)\u001b[49m\u001b[43m]\u001b[49m[:])\n",
      "File \u001b[1;32mh5py\\\\_objects.pyx:54\u001b[0m, in \u001b[0;36mh5py._objects.with_phil.wrapper\u001b[1;34m()\u001b[0m\n",
      "File \u001b[1;32mh5py\\\\_objects.pyx:55\u001b[0m, in \u001b[0;36mh5py._objects.with_phil.wrapper\u001b[1;34m()\u001b[0m\n",
      "File \u001b[1;32mF:\\Anaconda\\envs\\Test\\lib\\site-packages\\h5py\\_hl\\group.py:357\u001b[0m, in \u001b[0;36mGroup.__getitem__\u001b[1;34m(self, name)\u001b[0m\n\u001b[0;32m    355\u001b[0m         \u001b[38;5;28;01mraise\u001b[39;00m \u001b[38;5;167;01mValueError\u001b[39;00m(\u001b[38;5;124m\"\u001b[39m\u001b[38;5;124mInvalid HDF5 object reference\u001b[39m\u001b[38;5;124m\"\u001b[39m)\n\u001b[0;32m    356\u001b[0m \u001b[38;5;28;01melif\u001b[39;00m \u001b[38;5;28misinstance\u001b[39m(name, (\u001b[38;5;28mbytes\u001b[39m, \u001b[38;5;28mstr\u001b[39m)):\n\u001b[1;32m--> 357\u001b[0m     oid \u001b[38;5;241m=\u001b[39m \u001b[43mh5o\u001b[49m\u001b[38;5;241;43m.\u001b[39;49m\u001b[43mopen\u001b[49m\u001b[43m(\u001b[49m\u001b[38;5;28;43mself\u001b[39;49m\u001b[38;5;241;43m.\u001b[39;49m\u001b[43mid\u001b[49m\u001b[43m,\u001b[49m\u001b[43m \u001b[49m\u001b[38;5;28;43mself\u001b[39;49m\u001b[38;5;241;43m.\u001b[39;49m\u001b[43m_e\u001b[49m\u001b[43m(\u001b[49m\u001b[43mname\u001b[49m\u001b[43m)\u001b[49m\u001b[43m,\u001b[49m\u001b[43m \u001b[49m\u001b[43mlapl\u001b[49m\u001b[38;5;241;43m=\u001b[39;49m\u001b[38;5;28;43mself\u001b[39;49m\u001b[38;5;241;43m.\u001b[39;49m\u001b[43m_lapl\u001b[49m\u001b[43m)\u001b[49m\n\u001b[0;32m    358\u001b[0m \u001b[38;5;28;01melse\u001b[39;00m:\n\u001b[0;32m    359\u001b[0m     \u001b[38;5;28;01mraise\u001b[39;00m \u001b[38;5;167;01mTypeError\u001b[39;00m(\u001b[38;5;124m\"\u001b[39m\u001b[38;5;124mAccessing a group is done with bytes or str, \u001b[39m\u001b[38;5;124m\"\u001b[39m\n\u001b[0;32m    360\u001b[0m                     \u001b[38;5;124m\"\u001b[39m\u001b[38;5;124mnot \u001b[39m\u001b[38;5;132;01m{}\u001b[39;00m\u001b[38;5;124m\"\u001b[39m\u001b[38;5;241m.\u001b[39mformat(\u001b[38;5;28mtype\u001b[39m(name)))\n",
      "File \u001b[1;32mh5py\\\\_objects.pyx:54\u001b[0m, in \u001b[0;36mh5py._objects.with_phil.wrapper\u001b[1;34m()\u001b[0m\n",
      "File \u001b[1;32mh5py\\\\_objects.pyx:55\u001b[0m, in \u001b[0;36mh5py._objects.with_phil.wrapper\u001b[1;34m()\u001b[0m\n",
      "File \u001b[1;32mh5py\\\\h5o.pyx:241\u001b[0m, in \u001b[0;36mh5py.h5o.open\u001b[1;34m()\u001b[0m\n",
      "\u001b[1;31mValueError\u001b[0m: Invalid location identifier (invalid location identifier)"
     ]
    }
   ],
   "source": [
    "x_track = []\n",
    "y_track = []\n",
    "t_track = []\n",
    "\n",
    "with h5py.File(\"track\", \"r\") as file:\n",
    "    track_id = file[\"track_id\"][:]\n",
    "\n",
    "for i in track_id:\n",
    "    x_track.append(file[\"x_track_\"+str(i)][:])"
   ]
  },
  {
   "cell_type": "code",
   "execution_count": 4,
   "id": "a5ee4997-aac0-4775-8d78-ca69c8e01819",
   "metadata": {},
   "outputs": [
    {
     "data": {
      "text/plain": [
       "array([ 1,  9, 15, 21, 22, 25, 38, 39, 44], dtype=int64)"
      ]
     },
     "execution_count": 4,
     "metadata": {},
     "output_type": "execute_result"
    }
   ],
   "source": [
    "track_id "
   ]
  },
  {
   "cell_type": "code",
   "execution_count": null,
   "id": "e04fd1fa-daaa-48c6-bd06-5206e7529e49",
   "metadata": {},
   "outputs": [],
   "source": []
  }
 ],
 "metadata": {
  "kernelspec": {
   "display_name": "Python 3 (ipykernel)",
   "language": "python",
   "name": "python3"
  },
  "language_info": {
   "codemirror_mode": {
    "name": "ipython",
    "version": 3
   },
   "file_extension": ".py",
   "mimetype": "text/x-python",
   "name": "python",
   "nbconvert_exporter": "python",
   "pygments_lexer": "ipython3",
   "version": "3.9.19"
  }
 },
 "nbformat": 4,
 "nbformat_minor": 5
}
