{
 "cells": [
  {
   "cell_type": "code",
   "execution_count": 1,
   "id": "d6ba8a5b-b69f-40fb-ac6a-3269bf07dc1b",
   "metadata": {},
   "outputs": [],
   "source": [
    "import h5py\n",
    "import matplotlib.pyplot as plt\n",
    "import numpy as np\n",
    "from matplotlib.animation import FuncAnimation"
   ]
  },
  {
   "cell_type": "code",
   "execution_count": 3,
   "id": "ce8d7173-5ff9-4280-9523-66163c0bdbb3",
   "metadata": {},
   "outputs": [],
   "source": [
    "# if necessary: Select start and end frames for visualisation. \n",
    "t_start = 30\n",
    "t_end = 215"
   ]
  },
  {
   "cell_type": "code",
   "execution_count": 4,
   "id": "16996196-06d8-4382-9247-5f5e129df1a3",
   "metadata": {},
   "outputs": [],
   "source": [
    "with h5py.File(\"F:/PhD_Franziska/Headon/Headon_results/mesenchym/video1_slice4/whole_image/U_matrix\", \"r\") as file:\n",
    "    U = file[\"matrix\"][t_start:t_end]\n",
    "\n",
    "with h5py.File(\"F:/PhD_Franziska/Headon/Headon_results/mesenchym/video1_slice4/whole_image/V_matrix\", \"r\") as file:\n",
    "    V = file[\"matrix\"][t_start:t_end]\n",
    "\n",
    "with h5py.File(\"F:/PhD_Franziska/Headon/Headon_results/mesenchym/video1_slice4/whole_image/M_matrix\", \"r\") as file:\n",
    "    M = file[\"matrix\"][t_start:t_end]\n",
    "    \n",
    "with h5py.File(\"F:/PhD_Franziska/Headon/Headon_results/mesenchym/video1_slice4/whole_image/xgrid_matrix\", \"r\") as file:\n",
    "    xgrid = file[\"matrix\"][t_start:t_end]\n",
    "    \n",
    "with h5py.File(\"F:/PhD_Franziska/Headon/Headon_results/mesenchym/video1_slice4/whole_image/ygrid_matrix\", \"r\") as file:\n",
    "    ygrid = file[\"matrix\"][t_start:t_end]"
   ]
  },
  {
   "cell_type": "code",
   "execution_count": 6,
   "id": "715ceb21-cadf-4437-be24-5716632861a6",
   "metadata": {},
   "outputs": [],
   "source": [
    "with h5py.File(\"F:/PhD_Franziska/Headon/Headon_results/mesenchym/video1_slice4/headon_video1_layer4.h5\", \"r\") as file:\n",
    "    slices = file[\"data\"][t_start:t_end]"
   ]
  },
  {
   "cell_type": "markdown",
   "id": "37cad46b-99fa-43d3-8302-868329b3972e",
   "metadata": {},
   "source": [
    "# Visualization of original Tissue' video"
   ]
  },
  {
   "cell_type": "code",
   "execution_count": 1,
   "id": "5e2a7a3a-9114-4ddf-b7e8-6e6b65f2a62e",
   "metadata": {},
   "outputs": [],
   "source": [
    "# fig = plt.figure(figsize = (5, 5), dpi=300)\n",
    "\n",
    "# def make_frame(i):\n",
    "#     plt.clf()\n",
    "#     # Plotting.\n",
    "#     plt.title(\"t=\"+str(i+t_start))\n",
    "#     plt.imshow(slices[i].T)\n",
    "#     print(i)\n",
    "\n",
    "# myanim = FuncAnimation(fig, make_frame, frames = len(U)-1, interval = 500)\n",
    "# myanim.save(\"original_slice.mp4\", writer=\"ffmpeg\")"
   ]
  },
  {
   "cell_type": "markdown",
   "id": "aac572be-ba7f-4fcb-bafe-0db18afad759",
   "metadata": {},
   "source": [
    "# Visualization of original PIV results (Only PIV vectors)"
   ]
  },
  {
   "cell_type": "code",
   "execution_count": 3,
   "id": "f37fa74d-dabf-488f-bd95-e9a97ec8271b",
   "metadata": {
    "scrolled": true
   },
   "outputs": [],
   "source": [
    "# fig = plt.figure(figsize = (10, 10), dpi=200)\n",
    "# x = xgrid[0]\n",
    "# y = ygrid[0]\n",
    "\n",
    "# def make_frame(i):\n",
    "#     plt.clf()\n",
    "#     # Plotting.\n",
    "#     plt.title(\"t=\"+str(i+t_start))\n",
    "#     plt.quiver(x, y, V[i], -U[i]) # If nescessary use scale to rescale the arrow representation.\n",
    "#     plt.gca().invert_yaxis()\n",
    "#     print(\"ha\")\n",
    "\n",
    "# myanim = FuncAnimation(fig, make_frame, frames = len(U)-1, interval = 500)\n",
    "# myanim.save(\"vector_field_v1_s4_total_test.mp4\", writer=\"ffmpeg\")"
   ]
  },
  {
   "cell_type": "markdown",
   "id": "074c660d-650e-43f3-9574-711d788f431b",
   "metadata": {},
   "source": [
    "# Averaging of vector fields over sliding time intervals"
   ]
  },
  {
   "cell_type": "code",
   "execution_count": 6,
   "id": "017136ec-d5b1-499c-b3df-524558e75916",
   "metadata": {},
   "outputs": [],
   "source": [
    "def vector_avg(U, V, M, t, interval):\n",
    "    # Compute the averaging vectors and their magnitudes at time t. \n",
    "    # U, V and M are the total data sets. \n",
    "    # Interval: determins the averaging interval before and after t.\n",
    "\n",
    "    if t < interval:\n",
    "        U_mid = np.median(U[0 : t+interval+1], axis = 0) # Median filter\n",
    "        V_mid = np.median(V[0 : t+interval+1], axis = 0)\n",
    "        # U_mid = np.mean(U[0:t+interval+1], axis = 0) # Mean filter\n",
    "        # V_mid = np.mean(V[0:t+interval+1], axis = 0)\n",
    "        print(\"1\")\n",
    "    elif len(U)-t < interval:\n",
    "        U_mid = np.median(U[t-interval : len(U)+1], axis = 0)\n",
    "        V_mid = np.median(V[t-interval : len(U)+1], axis = 0)\n",
    "        # U_mid = np.mean(U[t-interval:len(U)+1], axis = 0)\n",
    "        # V_mid = np.mean(V[t-interval:len(U)+1], axis = 0)\n",
    "        print(\"2\")\n",
    "    else:\n",
    "        U_mid = np.median(U[t-interval : t+interval+1], axis = 0)\n",
    "        V_mid = np.median(V[t-interval : t+interval+1], axis = 0)\n",
    "        # U_mid = np.median(U[t-interval : t+interval+1], axis = 0)\n",
    "        # V_mid = np.median(V[t-interval : t+interval+1], axis = 0)\n",
    "        print(\"3\")\n",
    "\n",
    "    # Update the M (magnitude matrix)\n",
    "    M_mid = np.sqrt(U_mid**2 + V_mid**2)\n",
    "        \n",
    "    return U_mid, V_mid, M_mid"
   ]
  },
  {
   "cell_type": "markdown",
   "id": "989cd2cd-d1b8-499c-b242-87e12eeeb719",
   "metadata": {},
   "source": [
    "## Filter out the extra long vectors\n",
    "Depending on the vector length how many times of std above the mean length. "
   ]
  },
  {
   "cell_type": "code",
   "execution_count": 11,
   "id": "1e1705d3-8a34-4805-b0c7-f3bc7e1c4b44",
   "metadata": {},
   "outputs": [],
   "source": [
    "def postprocess(U, V, M, std_factor):\n",
    "    # Defining the mask.\n",
    "    meanM = np.mean(M)\n",
    "    stdM = np.std(M)\n",
    "    mask = M < meanM + std_factor * stdM\n",
    "    M *= mask\n",
    "    # filter the U, V vector components depending on masked M.\n",
    "    # U[M == 0] = \"nan\"\n",
    "    # V[M == 0] = \"nan\"\n",
    "    return U, V, M"
   ]
  },
  {
   "cell_type": "markdown",
   "id": "cf8d71b5-32d5-4f04-95d3-46f971eef12a",
   "metadata": {},
   "source": [
    "## Firstly averaging then postprocessing. Make video."
   ]
  },
  {
   "cell_type": "markdown",
   "id": "d6a1cf12-d317-450f-bdd4-b20df776fa28",
   "metadata": {},
   "source": [
    "### With background"
   ]
  },
  {
   "cell_type": "code",
   "execution_count": 4,
   "id": "fb7b4896-42bf-4f06-a66c-369c8b485eb8",
   "metadata": {
    "scrolled": true
   },
   "outputs": [],
   "source": [
    "# fig = plt.figure(figsize = (10, 10))\n",
    "# x = xgrid[0]\n",
    "# y = ygrid[0]\n",
    "\n",
    "# def make_frame(i):\n",
    "#     plt.clf()\n",
    "\n",
    "#     # Averaging\n",
    "#     U_avg, V_avg, M_avg = vector_avg(U, V, M, i, 15)\n",
    "#     # Postprocessing.\n",
    "#     #U_post, V_post, _ = postprocess(U_avg, V_avg, M_avg, 3)\n",
    "#     # Plotting.\n",
    "#     plt.title(\"t=\"+str(i+t_start))\n",
    "#     plt.imshow(slices[i].T)\n",
    "#     plt.quiver(x, y, V_avg, -U_avg, color = \"royalblue\") # can use parameter scale to rescale the arrows.\n",
    "#     #plt.gca().invert_yaxis()\n",
    "#     #print(\"ha\")\n",
    "\n",
    "# myanim = FuncAnimation(fig, make_frame, frames = len(U)-1, interval = 500)\n",
    "# myanim.save(\"avg_filter_backgr.mp4\", writer=\"ffmpeg\")"
   ]
  },
  {
   "cell_type": "markdown",
   "id": "966b0609-e117-4465-8ec6-7bde93789c3a",
   "metadata": {},
   "source": [
    "### Only vectors"
   ]
  },
  {
   "cell_type": "code",
   "execution_count": 5,
   "id": "920e89fd-9c2a-47d8-af85-969cd3ebfdc5",
   "metadata": {},
   "outputs": [],
   "source": [
    "# fig = plt.figure(figsize = (10, 10), dpi=300)\n",
    "# x = xgrid[0]\n",
    "# y = ygrid[0]\n",
    "# t_start = 30\n",
    "\n",
    "# def make_frame(i):\n",
    "#     plt.clf()\n",
    "\n",
    "#     # Averaging (after the space averaging)\n",
    "#     U_avg, V_avg, M_avg = vector_avg(U, V, M, i, 15) \n",
    "#     # # Postprocessing.\n",
    "#     # U_post, V_post, _ = postprocess(U_avg, V_avg, M_avg, 2)\n",
    "#     # # Set boundary to be nan. \n",
    "#     #U_final, V_final, _ = set_boundary_zero(U_avg, V_avg, M_avg)\n",
    "#     # Plotting.\n",
    "#     plt.title(\"t=\"+str(i+t_start))\n",
    "#     plt.quiver(x, y, V_avg, -U_avg, color=\"royalblue\")\n",
    "#     plt.gca().invert_yaxis()\n",
    "\n",
    "# myanim = FuncAnimation(fig, make_frame, frames = len(U)-1, interval = 500)\n",
    "# myanim.save(\"avg_filter_backgr_only_vector.mp4\", writer=\"ffmpeg\")"
   ]
  },
  {
   "cell_type": "markdown",
   "id": "10e2d0c3-ff4c-41dc-8e6a-da607e062a05",
   "metadata": {},
   "source": [
    "## Write the U, V, M in h5 files.\n",
    "Remember to synchronize the averaging interval as above. "
   ]
  },
  {
   "cell_type": "code",
   "execution_count": 6,
   "id": "34430ee4-0c15-494a-b0ff-04093feb6227",
   "metadata": {},
   "outputs": [],
   "source": [
    "# m_U = []\n",
    "# m_V = []\n",
    "# m_M = []\n",
    "\n",
    "# for i in range(len(U)):\n",
    "#     # Averaging\n",
    "#     U_avg, V_avg, M_avg = vector_avg(U, V, M, i, 15)\n",
    "#     # Postprocessing.\n",
    "#     #U_post, V_post, M_post = postprocess(U_avg, V_avg, M_avg, 3)\n",
    "#     m_U.append(U_avg)\n",
    "#     m_V.append(V_avg)\n",
    "#     m_M.append(M_avg)\n",
    "\n",
    "# # Write into h5 file.\n",
    "# U_avg = h5py.File(\"U_avg.h5\", \"w\")\n",
    "# U_avg.create_dataset(\"matrix\", data = m_U)\n",
    "# U_avg.close()\n",
    "\n",
    "# V_avg = h5py.File(\"V_avg.h5\", \"w\")\n",
    "# V_avg.create_dataset(\"matrix\", data = m_V)\n",
    "# V_avg.close()\n",
    "\n",
    "# M_avg = h5py.File(\"M_avg.h5\", \"w\")\n",
    "# M_avg.create_dataset(\"matrix\", data = m_M)\n",
    "# M_avg.close()"
   ]
  },
  {
   "cell_type": "code",
   "execution_count": null,
   "id": "edf02b4f-91ef-4524-b3a0-34ec969aeea4",
   "metadata": {},
   "outputs": [],
   "source": []
  }
 ],
 "metadata": {
  "kernelspec": {
   "display_name": "Python 3 (ipykernel)",
   "language": "python",
   "name": "python3"
  },
  "language_info": {
   "codemirror_mode": {
    "name": "ipython",
    "version": 3
   },
   "file_extension": ".py",
   "mimetype": "text/x-python",
   "name": "python",
   "nbconvert_exporter": "python",
   "pygments_lexer": "ipython3",
   "version": "3.12.7"
  }
 },
 "nbformat": 4,
 "nbformat_minor": 5
}
