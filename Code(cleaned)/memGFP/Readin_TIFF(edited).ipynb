{
 "cells": [
  {
   "cell_type": "code",
   "execution_count": 1,
   "id": "80a3d8dc-b933-4215-ad33-0c27e6848120",
   "metadata": {},
   "outputs": [],
   "source": [
    "from PIL import Image\n",
    "import tifffile as tiff\n",
    "import numpy as np\n",
    "import matplotlib.pyplot as plt\n",
    "import h5py"
   ]
  },
  {
   "cell_type": "code",
   "execution_count": 2,
   "id": "4385dfc4-5ad2-49e1-b7f2-19c53bc5da16",
   "metadata": {},
   "outputs": [
    {
     "name": "stdout",
     "output_type": "stream",
     "text": [
      "image shape: (49, 1024, 1024)\n"
     ]
    },
    {
     "data": {
      "text/plain": [
       "(49, 1024, 1024)"
      ]
     },
     "execution_count": 2,
     "metadata": {},
     "output_type": "execute_result"
    }
   ],
   "source": [
    "# Get the image information. \n",
    "tif_path = \"F:/PhD_Franziska/Headon/memGFP/memGFP_RA/memGFP 10 um RA 4 (29.08.24).tif\"\n",
    "\n",
    "with tiff.TiffFile(tif_path) as tif:\n",
    "    image_stack = tif.asarray()\n",
    "\n",
    "print(\"image shape:\", image_stack.shape)\n",
    "np.shape(np.array(image_stack))"
   ]
  },
  {
   "cell_type": "markdown",
   "id": "8eee2739-565d-43c2-99b1-df5f5dda8c38",
   "metadata": {},
   "source": [
    "# Convert the tif image information into .h5 file. "
   ]
  },
  {
   "cell_type": "code",
   "execution_count": 3,
   "id": "aed69246-0323-48cf-a1c5-8c77b10b435b",
   "metadata": {},
   "outputs": [],
   "source": [
    "# Store the image data to the .h5 file with given file path. \n",
    "h5_file_path = \"memGFP_RA_4_tissue.h5\"\n",
    "with h5py.File(h5_file_path, \"w\") as h5f:\n",
    "    h5f.create_dataset(\"img\", data = np.array(image_stack))"
   ]
  },
  {
   "cell_type": "code",
   "execution_count": 4,
   "id": "23256ec6-8816-4e32-8779-04bcfdf7ceb2",
   "metadata": {},
   "outputs": [],
   "source": [
    "# open h5 file contained the image information.\n",
    "h5_file_path = \"memGFP_RA_4_tissue.h5\"\n",
    "with h5py.File(h5_file_path, \"r\") as h5f:\n",
    "    img = h5f[\"img\"][:]"
   ]
  },
  {
   "cell_type": "code",
   "execution_count": 5,
   "id": "9cdcdc96-5b40-4ea5-8db7-2d05ade66ac1",
   "metadata": {},
   "outputs": [
    {
     "data": {
      "text/plain": [
       "(49, 1024, 1024)"
      ]
     },
     "execution_count": 5,
     "metadata": {},
     "output_type": "execute_result"
    }
   ],
   "source": [
    "np.shape(img)"
   ]
  },
  {
   "cell_type": "code",
   "execution_count": 1,
   "id": "62f61972-2bb1-406f-99e3-57265d714801",
   "metadata": {},
   "outputs": [],
   "source": [
    "# plt.figure(dpi=300)\n",
    "# plt.imshow(img[0]) # (y-axis, x-axis)"
   ]
  }
 ],
 "metadata": {
  "kernelspec": {
   "display_name": "Python 3 (ipykernel)",
   "language": "python",
   "name": "python3"
  },
  "language_info": {
   "codemirror_mode": {
    "name": "ipython",
    "version": 3
   },
   "file_extension": ".py",
   "mimetype": "text/x-python",
   "name": "python",
   "nbconvert_exporter": "python",
   "pygments_lexer": "ipython3",
   "version": "3.9.19"
  }
 },
 "nbformat": 4,
 "nbformat_minor": 5
}
