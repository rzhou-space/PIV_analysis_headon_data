{
 "cells": [
  {
   "cell_type": "code",
   "execution_count": 1,
   "id": "1de91786-0d46-4e22-a4ab-9cfa15784a8c",
   "metadata": {},
   "outputs": [],
   "source": [
    "import h5py\n",
    "import pandas as pd\n",
    "\n",
    "def convert_h5_into_excel(file_name):\n",
    "    # File path for the .h5 file\n",
    "    h5_file_path = file_name + \".h5\"\n",
    "    \n",
    "    # Open the .h5 file\n",
    "    with h5py.File(h5_file_path, \"r\") as h5_file:\n",
    "        # Initialize a dictionary to store datasets\n",
    "        data_dict = {}\n",
    "        \n",
    "        # Iterate through the datasets in the .h5 file\n",
    "        for dataset_name in h5_file.keys():\n",
    "            # Read the dataset into a dictionary\n",
    "            data_dict[dataset_name] = h5_file[dataset_name][:]\n",
    "        \n",
    "    # Convert the dictionary to a DataFrame\n",
    "    df = pd.DataFrame(data_dict)\n",
    "    \n",
    "    # Save the DataFrame to an Excel file\n",
    "    excel_file_path = file_name + \".xlsx\"\n",
    "    df.to_excel(excel_file_path, index=False)\n",
    "    \n",
    "    print(f\"Data saved to {excel_file_path}\")"
   ]
  },
  {
   "cell_type": "code",
   "execution_count": 11,
   "id": "da27d2bb-9e30-401c-a6e4-9a00676dd491",
   "metadata": {},
   "outputs": [
    {
     "name": "stdout",
     "output_type": "stream",
     "text": [
      "Data saved to absolute_horizontal_displacement.xlsx\n"
     ]
    }
   ],
   "source": [
    "convert_h5_into_excel(\"absolute_horizontal_displacement\")"
   ]
  },
  {
   "cell_type": "code",
   "execution_count": 3,
   "id": "fc8a0769-0d53-4e73-bf37-8a509976c113",
   "metadata": {},
   "outputs": [],
   "source": [
    "def print_h5_overview(file_path):\n",
    "    with h5py.File(file_path, \"r\") as h5file:\n",
    "        def visitor_func(name, obj):\n",
    "            if isinstance(obj, h5py.Dataset):\n",
    "                print(f\"Dataset: {name}\")\n",
    "                print(f\"  Shape: {obj.shape}\")\n",
    "                print(f\"  Data type: {obj.dtype}\")\n",
    "                print(f\"  Sample data: {obj[()][:5]}\")\n",
    "            elif isinstance(obj, h5py.Group):\n",
    "                print(f\"Group: {name}\")\n",
    "                \n",
    "        h5file.visititems(visitor_func)"
   ]
  },
  {
   "cell_type": "code",
   "execution_count": 10,
   "id": "ec1c0810-4eca-4d16-a178-3a9359eb98e8",
   "metadata": {},
   "outputs": [
    {
     "name": "stdout",
     "output_type": "stream",
     "text": [
      "Dataset: DAPT_1\n",
      "  Shape: (500,)\n",
      "  Data type: float64\n",
      "  Sample data: [32.0480118  48.25084696 17.68955717 24.19295217 48.63827509]\n",
      "Dataset: DAPT_2\n",
      "  Shape: (500,)\n",
      "  Data type: float64\n",
      "  Sample data: [ 1.93929017  7.02327444 12.50156597 14.42731287 13.17721699]\n",
      "Dataset: DAPT_3\n",
      "  Shape: (500,)\n",
      "  Data type: float64\n",
      "  Sample data: [50.28466842 26.54205657 49.90738946 26.14393949 53.17565566]\n",
      "Dataset: RA_1\n",
      "  Shape: (500,)\n",
      "  Data type: float64\n",
      "  Sample data: [ 3.8265866  12.57416297  2.13600627  0.50046765  5.83668661]\n",
      "Dataset: RA_2\n",
      "  Shape: (500,)\n",
      "  Data type: float64\n",
      "  Sample data: [13.7712092   6.03055022  6.39064887  5.04087224 15.22973075]\n",
      "Dataset: RA_3\n",
      "  Shape: (500,)\n",
      "  Data type: float64\n",
      "  Sample data: [39.86553038 58.82614561 72.62455881 58.68046562 55.49125821]\n",
      "Dataset: RA_4\n",
      "  Shape: (500,)\n",
      "  Data type: float64\n",
      "  Sample data: [18.60901605 10.99071425 15.56578354 18.35562611 23.87612866]\n",
      "Dataset: control_1\n",
      "  Shape: (500,)\n",
      "  Data type: float64\n",
      "  Sample data: [15.37930131 27.00357383  2.85208294 21.53492787 10.70061591]\n",
      "Dataset: control_2\n",
      "  Shape: (500,)\n",
      "  Data type: float64\n",
      "  Sample data: [29.31671011  4.63660514 17.36808359 25.54870203 22.85108155]\n",
      "Dataset: control_3(condensate_cut)\n",
      "  Shape: (500,)\n",
      "  Data type: float64\n",
      "  Sample data: [ 0.52633093 43.06609063 17.10231248 38.22260014  4.20795303]\n",
      "Dataset: control_3(with_condensate)\n",
      "  Shape: (500,)\n",
      "  Data type: float64\n",
      "  Sample data: [10.86295499 13.05280907 23.59213013 27.51883154 38.98126516]\n"
     ]
    }
   ],
   "source": [
    "print_h5_overview(\"absolute_horizontal_displacement.h5\")"
   ]
  },
  {
   "cell_type": "code",
   "execution_count": null,
   "id": "59bbee5f-8c4e-400d-be58-6fc07ab24572",
   "metadata": {},
   "outputs": [],
   "source": []
  }
 ],
 "metadata": {
  "kernelspec": {
   "display_name": "Python 3 (ipykernel)",
   "language": "python",
   "name": "python3"
  },
  "language_info": {
   "codemirror_mode": {
    "name": "ipython",
    "version": 3
   },
   "file_extension": ".py",
   "mimetype": "text/x-python",
   "name": "python",
   "nbconvert_exporter": "python",
   "pygments_lexer": "ipython3",
   "version": "3.9.19"
  }
 },
 "nbformat": 4,
 "nbformat_minor": 5
}
