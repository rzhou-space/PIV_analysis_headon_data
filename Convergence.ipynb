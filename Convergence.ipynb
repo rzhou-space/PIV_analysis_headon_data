{
 "cells": [
  {
   "cell_type": "code",
   "execution_count": 28,
   "id": "c687f848-dcc7-48f9-b27e-3b8e5cab949e",
   "metadata": {},
   "outputs": [],
   "source": [
    "import h5py\n",
    "import numpy as np\n",
    "import matplotlib.cm as cm\n",
    "import matplotlib.pyplot as plt\n",
    "from matplotlib.colors import Normalize\n",
    "from matplotlib.animation import FuncAnimation\n",
    "import matplotlib as mpl\n",
    "from matplotlib.colors import LinearSegmentedColormap\n",
    "from functools import reduce\n",
    "from matplotlib import transforms\n",
    "from functools import reduce\n",
    "from skimage.util.shape import view_as_windows"
   ]
  },
  {
   "cell_type": "code",
   "execution_count": 9,
   "id": "2851276e-7ce3-4f2f-89bd-420a8ac3ee89",
   "metadata": {},
   "outputs": [],
   "source": [
    "# Read in the averaged vector field data.  \n",
    "\n",
    "with h5py.File(\"F:/PhD_Franziska/Headon/Headon_results/mesenchym/video1_slice4/whole_image/avg_data/U_avg.h5\", \"r\") as file: \n",
    "    U = file[\"matrix\"][:]\n",
    "\n",
    "with h5py.File(\"F:/PhD_Franziska/Headon/Headon_results/mesenchym/video1_slice4/whole_image/avg_data/V_avg.h5\", \"r\") as file: \n",
    "    V = file[\"matrix\"][:]\n",
    "\n",
    "with h5py.File(\"F:/PhD_Franziska/Headon/Headon_results/mesenchym/video1_slice4/whole_image/avg_data/M_avg.h5\", \"r\") as file: \n",
    "    M = file[\"matrix\"][:]\n",
    "\n",
    "with h5py.File(\"F:/PhD_Franziska/Headon/Headon_results/mesenchym/video1_slice4/whole_image/avg_data/xgrid_matrix\", \"r\") as file: \n",
    "    xgrid = file[\"matrix\"][:]\n",
    "\n",
    "with h5py.File(\"F:/PhD_Franziska/Headon/Headon_results/mesenchym/video1_slice4/whole_image/avg_data/ygrid_matrix\", \"r\") as file: \n",
    "    ygrid = file[\"matrix\"][:]"
   ]
  },
  {
   "cell_type": "code",
   "execution_count": 11,
   "id": "a33c0f9a-a056-4331-941b-97a87f626c02",
   "metadata": {},
   "outputs": [
    {
     "data": {
      "text/plain": [
       "(185, 63, 63)"
      ]
     },
     "execution_count": 11,
     "metadata": {},
     "output_type": "execute_result"
    }
   ],
   "source": [
    "np.shape(U)"
   ]
  },
  {
   "cell_type": "markdown",
   "id": "eab2a25b-0ff8-4221-b3cc-e0dbde7ea11b",
   "metadata": {},
   "source": [
    "# Calculate Convergence with Pattern-Matching \n",
    "\n",
    "So that the convergence is not only in one point but in a region. "
   ]
  },
  {
   "cell_type": "code",
   "execution_count": 4,
   "id": "6e4a83e6-3b0c-4d7c-adbf-1370f1715b9d",
   "metadata": {},
   "outputs": [],
   "source": [
    "# Generate the pattern for convergence. The grid of vectors point into middle. \n",
    "# Copied the function from orientation profile from module mesenchym_analysis.ipynb\n",
    "\n",
    "def convergence_pattern_2D(pattern_size): \n",
    "    # Pattern size a tuple with (width, height)\n",
    "\n",
    "    center = tuple(round(i/2) for i in pattern_size) # (c, c) tuple. \n",
    "\n",
    "    # construct the position matrix which has the same dimension as input matrix.\n",
    "    pos_matrix_x = np.zeros(pattern_size)\n",
    "    pos_matrix_y = np.zeros(pattern_size)\n",
    "    # x coordinate grid matrix\n",
    "    for i in range(pattern_size[0]): \n",
    "        pos_matrix_x[i, :] = np.array([i]*len(pos_matrix_x[i, :])) # The x coordinates have the same value for one row.\n",
    "    # y coordinate grid matrix \n",
    "    for j in range(pattern_size[1]): \n",
    "        pos_matrix_y[:, j] = np.array([j]*len(pos_matrix_y[:, j])) # The y coordinates have the same value for one column. \n",
    "\n",
    "    # Construct the direction matrix U and V, which point to the center. The center coordinate substracted by other vectors.\n",
    "    U_point_center = -(pos_matrix_x - center[0]) # For x coordinate direction.\n",
    "    V_point_center = -(pos_matrix_y - center[1]) # For y coordinate direction. \n",
    "\n",
    "    # Calculate the magnitude of the point to center vector field and normalize the U and V vector field. \n",
    "    M_point_center = np.sqrt(V_point_center**2 + U_point_center**2)\n",
    "    # Replace the center which has magnitude 0 with nan to avoid runtime warning. \n",
    "    M_point_center[M_point_center == 0] = np.nan\n",
    "    \n",
    "    V_point_center /= M_point_center\n",
    "    V_point_center = np.nan_to_num(V_point_center)\n",
    "    U_point_center /= M_point_center\n",
    "    U_point_center = np.nan_to_num(U_point_center)\n",
    "    \n",
    "    return pos_matrix_x, pos_matrix_y, U_point_center, V_point_center "
   ]
  },
  {
   "cell_type": "code",
   "execution_count": 43,
   "id": "a55b1616-2033-4b5a-a120-f83b5dc44275",
   "metadata": {},
   "outputs": [
    {
     "data": {
      "text/plain": [
       "<matplotlib.quiver.Quiver at 0x1a5bdf4c9d0>"
      ]
     },
     "execution_count": 43,
     "metadata": {},
     "output_type": "execute_result"
    },
    {
     "data": {
      "image/png": "[encoded data removed]",
      "text/plain": [
       "<Figure size 640x480 with 1 Axes>"
      ]
     },
     "metadata": {},
     "output_type": "display_data"
    }
   ],
   "source": [
    "pos_x, pos_y, u_direc, v_direc = convergence_pattern_2D((4, 4))\n",
    "plt.quiver(pos_x, pos_y, u_direc, v_direc)"
   ]
  },
  {
   "cell_type": "code",
   "execution_count": 19,
   "id": "00c244d5-159b-41b6-8c6c-cfeeb3d470ae",
   "metadata": {},
   "outputs": [],
   "source": [
    "# Normalize the whole vector field at time point t. \n",
    "\n",
    "def normalize_vector_field(t, U, V, M): \n",
    "    # Magnitude of the vectors. \n",
    "    M_t = M[t]\n",
    "    M_t[M_t == 0] = np.nan\n",
    "\n",
    "    U_t = U[t]\n",
    "    V_t = V[t]\n",
    "\n",
    "    U_t_nor = U_t / M_t \n",
    "    V_t_nor = V_t / M_t \n",
    "\n",
    "    # Turn the nan to 0.\n",
    "    U_t_nor[np.isnan(U_t_nor)] = 0\n",
    "    V_t_nor[np.isnan(V_t_nor)] = 0\n",
    "\n",
    "    return U_t_nor, V_t_nor"
   ]
  },
  {
   "cell_type": "code",
   "execution_count": 57,
   "id": "5135bead-4ada-41c6-b1a6-6513b43b2d8e",
   "metadata": {},
   "outputs": [],
   "source": [
    "def local_match_score(sub_U, sub_V, pattern_U, pattern_V): \n",
    "    # Match score is the dot product between two normalized vectors at the all same position. \n",
    "    # U and V values are both from already normalized matrices. \n",
    "\n",
    "    # Calculate the dot product between vectors on the same position. \n",
    "    # For 2D vectors (x1, y1) & (x2, y2) --> x1x2 + y1y2 \n",
    "    orient_matrix = np.multiply(sub_U, pattern_U) + np.multiply(sub_V, pattern_V)\n",
    "\n",
    "    return np.mean(orient_matrix) # Final match score is the mean of the orientation match in the sub region. \n",
    "\n",
    "# TODO: But the local region with the same positions as sub_U and sub_V should then hava the same value as the score."
   ]
  },
  {
   "cell_type": "code",
   "execution_count": 18,
   "id": "3b5e356c-c4fd-4ce9-8302-39dbd2f107ee",
   "metadata": {},
   "outputs": [
    {
     "data": {
      "text/plain": [
       "array([0., 0., 0., 0., 0.], dtype=float32)"
      ]
     },
     "execution_count": 18,
     "metadata": {},
     "output_type": "execute_result"
    }
   ],
   "source": [
    "U_nor, V_nor = normalize_vector_field(10, U, V, M)"
   ]
  },
  {
   "cell_type": "code",
   "execution_count": 21,
   "id": "40c37c6b-0dc3-414c-8280-b40f082c23b8",
   "metadata": {},
   "outputs": [
    {
     "data": {
      "text/plain": [
       "2.5"
      ]
     },
     "execution_count": 21,
     "metadata": {},
     "output_type": "execute_result"
    }
   ],
   "source": [
    "a = np.array([[1,2,3],\n",
    "              [2,3,4]])\n",
    "np.mean(a)"
   ]
  },
  {
   "cell_type": "code",
   "execution_count": 55,
   "id": "0b6b7eb5-c58f-450b-9ac5-22ea702164c4",
   "metadata": {},
   "outputs": [],
   "source": [
    "import numpy as np \n",
    "\n",
    "yourArray = np.random.randn(64,64)        # just an example\n",
    "width = 2\n",
    "height = 2\n",
    "\n",
    "a = []                                    # a python list to hold the windows\n",
    "match_array = np.zeros(np.shape(yourArray))\n",
    "\n",
    "for i in range(width, yourArray.shape[0]-width+1):\n",
    "    for j in range(height, yourArray.shape[1]-height+1):\n",
    "        window = yourArray[i-width:i+width,j-height:j+height] # each individual window\n",
    "        match_array[i-width:i+width,j-height:j+height] = i/j\n",
    "        a.append(window)"
   ]
  },
  {
   "cell_type": "code",
   "execution_count": 56,
   "id": "997bb318-a06c-4af7-b10d-6fe28eecbcab",
   "metadata": {},
   "outputs": [
    {
     "data": {
      "text/plain": [
       "array([[ 1.        ,  0.66666667,  0.5       , ...,  0.03225806,\n",
       "         0.03225806,  0.03225806],\n",
       "       [ 1.5       ,  1.        ,  0.75      , ...,  0.0483871 ,\n",
       "         0.0483871 ,  0.0483871 ],\n",
       "       [ 2.        ,  1.33333333,  1.        , ...,  0.06451613,\n",
       "         0.06451613,  0.06451613],\n",
       "       ...,\n",
       "       [31.        , 20.66666667, 15.5       , ...,  1.        ,\n",
       "         1.        ,  1.        ],\n",
       "       [31.        , 20.66666667, 15.5       , ...,  1.        ,\n",
       "         1.        ,  1.        ],\n",
       "       [31.        , 20.66666667, 15.5       , ...,  1.        ,\n",
       "         1.        ,  1.        ]])"
      ]
     },
     "execution_count": 56,
     "metadata": {},
     "output_type": "execute_result"
    }
   ],
   "source": [
    "match_array"
   ]
  },
  {
   "cell_type": "code",
   "execution_count": null,
   "id": "2d8f925f-f71d-4778-8705-a054741b7174",
   "metadata": {},
   "outputs": [],
   "source": [
    "def global_match(t, U, V, pattern_U, pattern_V):\n",
    "    "
   ]
  },
  {
   "cell_type": "code",
   "execution_count": null,
   "id": "45d0bcff-a5b4-4d48-af8c-aed88abc1d24",
   "metadata": {},
   "outputs": [],
   "source": []
  }
 ],
 "metadata": {
  "kernelspec": {
   "display_name": "Python 3 (ipykernel)",
   "language": "python",
   "name": "python3"
  },
  "language_info": {
   "codemirror_mode": {
    "name": "ipython",
    "version": 3
   },
   "file_extension": ".py",
   "mimetype": "text/x-python",
   "name": "python",
   "nbconvert_exporter": "python",
   "pygments_lexer": "ipython3",
   "version": "3.9.19"
  }
 },
 "nbformat": 4,
 "nbformat_minor": 5
}
